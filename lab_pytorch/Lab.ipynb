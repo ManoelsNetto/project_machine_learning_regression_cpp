{
 "cells": [
  {
   "cell_type": "code",
   "execution_count": 16,
   "id": "629ef230",
   "metadata": {},
   "outputs": [],
   "source": [
    "# import\n",
    "import torch\n",
    "import time"
   ]
  },
  {
   "cell_type": "code",
   "execution_count": 22,
   "id": "7f32ae22",
   "metadata": {},
   "outputs": [],
   "source": [
    "# Class\n",
    "class Model(torch.nn.Module):\n",
    "    \n",
    "    # Constructor\n",
    "    def __init__(self, D_in, H, D_out):\n",
    "        super(Model, self).__init__()\n",
    "        self.linear1 = torch.nn.Linear(D_in, H)\n",
    "        self.linear2 = torch.nn.Linear(H, D_out)\n",
    "    \n",
    "    # Method\n",
    "    def forward(self, x):\n",
    "        h_relu = self.linear1(x).clamp(min=0)\n",
    "        y_pred = self.linear2(h_relu)\n",
    "        return y_pred"
   ]
  },
  {
   "cell_type": "code",
   "execution_count": 23,
   "id": "4f313a67",
   "metadata": {},
   "outputs": [],
   "source": [
    "# N é o batch size\n",
    "# D_in é a camada de entrada\n",
    "# H é a camada oculta\n",
    "# D_out é a camada de saída\n",
    "N, D_in, H, D_out = 64, 1000, 100, 10"
   ]
  },
  {
   "cell_type": "code",
   "execution_count": 24,
   "id": "bb621f47",
   "metadata": {},
   "outputs": [],
   "source": [
    "x = torch.randn(N, D_in)\n",
    "y = torch.randn(N, D_out)"
   ]
  },
  {
   "cell_type": "code",
   "execution_count": 32,
   "id": "168b1967",
   "metadata": {},
   "outputs": [
    {
     "name": "stdout",
     "output_type": "stream",
     "text": [
      "Epoch = 99, Error = 2.162598133087158\n",
      "Epoch = 199, Error = 0.03012634441256523\n",
      "Epoch = 299, Error = 0.0008469218737445772\n",
      "Epoch = 399, Error = 3.0810697353444993e-05\n",
      "Epoch = 499, Error = 1.2649024938582443e-06\n",
      "\n",
      "--- Execution time: 0.585742712020874 ---\n",
      "\n"
     ]
    }
   ],
   "source": [
    "start_time = time.time()\n",
    "model = Model(D_in, H, D_out)\n",
    "\n",
    "# Error Function\n",
    "loss_fn = torch.nn.MSELoss(reduction = 'sum')\n",
    "\n",
    "# Learning rate\n",
    "learning_rate = 1e-4\n",
    "\n",
    "# Optimization SGD\n",
    "optimizer = torch.optim.SGD(model.parameters(), lr = learning_rate)\n",
    "\n",
    "for t in range(500):\n",
    "    \n",
    "    # Forward pass: y prediction\n",
    "    y_pred = model(x)\n",
    "    \n",
    "    # Loss\n",
    "    loss = loss_fn(y_pred, y)\n",
    "    \n",
    "    if (t % 100 == 99):\n",
    "        print(\"Epoch = {}, Error = {}\".format(t, loss.item()))\n",
    "        \n",
    "    # Zero gradiants\n",
    "    optimizer.zero_grad()\n",
    "    \n",
    "    # Backpropagtion\n",
    "    loss.backward()\n",
    "    \n",
    "    # Update weights\n",
    "    optimizer.step()\n",
    "    \n",
    "print(\"\\n--- Execution time: %s ---\\n\" % (time.time() - start_time))"
   ]
  },
  {
   "cell_type": "code",
   "execution_count": null,
   "id": "3da6ccb6",
   "metadata": {},
   "outputs": [],
   "source": []
  }
 ],
 "metadata": {
  "kernelspec": {
   "display_name": "Python 3 (ipykernel)",
   "language": "python",
   "name": "python3"
  },
  "language_info": {
   "codemirror_mode": {
    "name": "ipython",
    "version": 3
   },
   "file_extension": ".py",
   "mimetype": "text/x-python",
   "name": "python",
   "nbconvert_exporter": "python",
   "pygments_lexer": "ipython3",
   "version": "3.11.5"
  }
 },
 "nbformat": 4,
 "nbformat_minor": 5
}
